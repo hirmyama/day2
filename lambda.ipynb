{
 "cells": [
  {
   "cell_type": "code",
   "execution_count": null,
   "metadata": {
    "slideshow": {
     "slide_type": "slide"
    }
   },
   "outputs": [],
   "source": [
    "import boto3"
   ]
  },
  {
   "cell_type": "code",
   "execution_count": null,
   "metadata": {},
   "outputs": [],
   "source": [
    "# まずLambdaが使用するロールを作る\n",
    "iam = boto3.resource('iam')"
   ]
  },
  {
   "cell_type": "code",
   "execution_count": null,
   "metadata": {},
   "outputs": [],
   "source": [
    "# ロールの「信頼ポリシー」(Trust policy)を定義。\n",
    "# 「信頼ポリシー」には、「AWSのサービスであるLambdaが、このロールを使ってよい」と書く。\n",
    "# 「ロールを使う」＝ AssumeRole\n",
    "policy_doc = {\n",
    "  \"Version\": \"2012-10-17\",\n",
    "  \"Statement\": [\n",
    "    {\n",
    "      \"Effect\": \"Allow\",\n",
    "      \"Principal\": {\n",
    "        \"Service\": \"lambda.amazonaws.com\"\n",
    "      },\n",
    "      \"Action\": \"sts:AssumeRole\"\n",
    "    }\n",
    "  ]\n",
    "}"
   ]
  },
  {
   "cell_type": "code",
   "execution_count": null,
   "metadata": {},
   "outputs": [],
   "source": [
    "# ロールを作成。「信頼ポリシー」(Trust policy)をアタッチ。\n",
    "import json\n",
    "\n",
    "try:\n",
    "    role = iam.create_role(RoleName='role_for_lambda_sample', AssumeRolePolicyDocument=json.dumps(policy_doc))\n",
    "    print('ロールを定義しました: ', 'role_for_lambda_sample')\n",
    "except iam.meta.client.exceptions.EntityAlreadyExistsException:\n",
    "    print('ロールは定義済みです: ', 'role_for_lambda_sample')\n"
   ]
  },
  {
   "cell_type": "code",
   "execution_count": null,
   "metadata": {},
   "outputs": [],
   "source": [
    "# ロールに「アクセス権限ポリシー」(Permissions policy)をアタッチ。\n",
    "# アクセス権限ポリシーとは、このLambda関数のプログラムが、何をしてよいか、という設定。\n",
    "# アクセス権限ポリシーとして、CloudWatch Logsへのフルアクセス（書き込みを含む）を許可。\n",
    "\n",
    "# role.attach_policy(PolicyArn='arn:aws:iam::aws:policy/AmazonS3FullAccess')\n",
    "role.attach_policy(PolicyArn='arn:aws:iam::aws:policy/CloudWatchLogsFullAccess')"
   ]
  },
  {
   "cell_type": "code",
   "execution_count": null,
   "metadata": {},
   "outputs": [],
   "source": [
    "# Lambdaを操作するためのオブジェクトを作成。\n",
    "client = boto3.client('lambda') # lambda はPythonの予約語なので、ここではclientとしている。"
   ]
  },
  {
   "cell_type": "code",
   "execution_count": null,
   "metadata": {},
   "outputs": [],
   "source": [
    "# Lambda関数コードを作成\n",
    "code = '''\n",
    "import json\n",
    "\n",
    "def lambda_handler(event, context):\n",
    "    print('hello!!こんにちは!!! このメッセージはCloudWatch Logsに出力されます')\n",
    "    response_data = {'message':'さようなら..!このメッセージはレスポンスに含まれます'}\n",
    "    return {\n",
    "        \"statusCode\": 200,\n",
    "        #\"body\": json.dumps(response_data)\n",
    "        'body': response_data\n",
    "    }\n",
    "'''\n",
    "print(code)"
   ]
  },
  {
   "cell_type": "code",
   "execution_count": null,
   "metadata": {},
   "outputs": [],
   "source": [
    "# Lambda関数コードをapp.pyに書き込み、さらにapp.zipとして圧縮する\n",
    "\n",
    "import zipfile\n",
    "import os.path\n",
    "import datetime\n",
    "\n",
    "str_info = zipfile.ZipInfo()\n",
    "current_time = datetime.datetime.now()\n",
    "\n",
    "str_info.filename = 'app.py'\n",
    "str_info.compress_type = zipfile.ZIP_DEFLATED\n",
    "str_info.date_time = (current_time.year, current_time.month, current_time.day, \n",
    "                      current_time.hour, current_time.minute, current_time.second)\n",
    "str_info.external_attr = 0o777 << 16\n",
    "with zipfile.ZipFile('app.zip', 'w', zipfile.ZIP_DEFLATED) as zipf:\n",
    "    zipf.writestr(str_info, code)\n"
   ]
  },
  {
   "cell_type": "code",
   "execution_count": null,
   "metadata": {},
   "outputs": [],
   "source": [
    "# Lambda関数名を定義\n",
    "func_name = 'lambda_sample'"
   ]
  },
  {
   "cell_type": "code",
   "execution_count": null,
   "metadata": {},
   "outputs": [],
   "source": [
    "# 同名の関数は定義できないので、もし関数があれば先に削除しておく。\n",
    "try:\n",
    "    client.delete_function(FunctionName=func_name)\n",
    "    print('削除しました: ', func_name)\n",
    "except client.exceptions.ResourceNotFoundException:\n",
    "    print('関数は存在しません: ', func_name)\n"
   ]
  },
  {
   "cell_type": "code",
   "execution_count": null,
   "metadata": {},
   "outputs": [],
   "source": [
    "from pprint import pprint\n",
    "\n",
    "# Lambda関数を作成（ZIPをアップロード）\n",
    "with open('app.zip', 'rb') as app:\n",
    "    func = client.create_function(\n",
    "        FunctionName=func_name, # 関数名\n",
    "        Runtime='python3.6', # ランタイム（言語）\n",
    "        Role=role.arn, # ロールのARN\n",
    "        Handler='app.lambda_handler', # app.py の lambda_handler 関数をハンドラ（起点）とする\n",
    "        Code={\n",
    "            'ZipFile': app.read() # ZIPファイルをアップロード\n",
    "        },\n",
    "        Description='description', # 説明文\n",
    "        Timeout=60, # 関数の最長実行時間\n",
    "        MemorySize=128 # 関数が使用できる最大メモリ量\n",
    "    )\n",
    "    pprint(func)"
   ]
  },
  {
   "cell_type": "code",
   "execution_count": null,
   "metadata": {},
   "outputs": [],
   "source": [
    "# Lambda関数を呼び出す\n",
    "import json\n",
    "from pprint import pprint\n",
    "result = client.invoke(\n",
    "    FunctionName=func_name, \n",
    "    InvocationType='RequestResponse')"
   ]
  },
  {
   "cell_type": "code",
   "execution_count": null,
   "metadata": {},
   "outputs": [],
   "source": [
    "pprint(result)"
   ]
  },
  {
   "cell_type": "code",
   "execution_count": null,
   "metadata": {},
   "outputs": [],
   "source": [
    "# Lambda関数が出力したJSONを表示\n",
    "json.loads(result['Payload'].read())"
   ]
  },
  {
   "cell_type": "code",
   "execution_count": null,
   "metadata": {},
   "outputs": [],
   "source": []
  }
 ],
 "metadata": {
  "kernelspec": {
   "display_name": "Python 3",
   "language": "python",
   "name": "python3"
  },
  "language_info": {
   "codemirror_mode": {
    "name": "ipython",
    "version": 3
   },
   "file_extension": ".py",
   "mimetype": "text/x-python",
   "name": "python",
   "nbconvert_exporter": "python",
   "pygments_lexer": "ipython3",
   "version": "3.7.0"
  }
 },
 "nbformat": 4,
 "nbformat_minor": 2
}
