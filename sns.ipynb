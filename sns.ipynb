{
 "cells": [
  {
   "cell_type": "markdown",
   "metadata": {},
   "source": [
    "SNS演習\n",
    "\n",
    "開始前に、すぐに着信が確認できるメールアドレスをご準備ください\n",
    "（GMailがおすすめ）"
   ]
  },
  {
   "cell_type": "code",
   "execution_count": null,
   "metadata": {},
   "outputs": [],
   "source": [
    "import boto3\n",
    "sns = boto3.resource('sns')"
   ]
  },
  {
   "cell_type": "code",
   "execution_count": null,
   "metadata": {},
   "outputs": [],
   "source": [
    "# トピックを作成\n",
    "topic = sns.create_topic(\n",
    "    Name='test_topic'\n",
    ")\n",
    "\n",
    "topic"
   ]
  },
  {
   "cell_type": "code",
   "execution_count": null,
   "metadata": {},
   "outputs": [],
   "source": [
    "# すべてのトピックを取得\n",
    "list(sns.topics.all())"
   ]
  },
  {
   "cell_type": "code",
   "execution_count": null,
   "metadata": {},
   "outputs": [],
   "source": [
    "# トピックのARN\n",
    "topic.arn"
   ]
  },
  {
   "cell_type": "code",
   "execution_count": null,
   "metadata": {},
   "outputs": [],
   "source": [
    "sns.meta.client.set_topic_attributes(\n",
    "    TopicArn=topic.arn,\n",
    "    AttributeName='DisplayName',\n",
    "    AttributeValue='taro'\n",
    ")"
   ]
  },
  {
   "cell_type": "code",
   "execution_count": null,
   "metadata": {},
   "outputs": [],
   "source": [
    "mail_address = '' # ここにあなたのメールアドレスを入力してから実行してください。"
   ]
  },
  {
   "cell_type": "code",
   "execution_count": null,
   "metadata": {},
   "outputs": [],
   "source": [
    "# サブスクライブ（メッセージを「購読」）\n",
    "sns.meta.client.subscribe(\n",
    "    TopicArn=topic.arn,\n",
    "    Protocol='email',\n",
    "    Endpoint=mail_address)"
   ]
  },
  {
   "cell_type": "markdown",
   "metadata": {},
   "source": [
    "上記を実行すると、指定したメールアドレスに下記のようなメールが届きます。\n",
    "\n",
    "```\n",
    "You have chosen to subscribe to the topic: \n",
    "arn:aws:sns:ap-northeast-1:290989014633:test\n",
    "\n",
    "To confirm this subscription, click or visit the link below (If this was in error no action is necessary): \n",
    "Confirm subscription\n",
    "\n",
    "Please do not reply directly to this email. If you wish to remove yourself from receiving all future SNS subscription confirmation requests please send an email to sns-opt-out\n",
    "```\n",
    "\n",
    "`Confirm subscription` をクリックして、サブスクライブしてください。"
   ]
  },
  {
   "cell_type": "code",
   "execution_count": null,
   "metadata": {},
   "outputs": [],
   "source": [
    "# トピックにメッセージをPublishする\n",
    "response = topic.publish(Message='helloこんにちは')\n",
    "\n",
    "response"
   ]
  },
  {
   "cell_type": "code",
   "execution_count": null,
   "metadata": {},
   "outputs": [],
   "source": []
  }
 ],
 "metadata": {
  "kernelspec": {
   "display_name": "Python 3",
   "language": "python",
   "name": "python3"
  },
  "language_info": {
   "codemirror_mode": {
    "name": "ipython",
    "version": 3
   },
   "file_extension": ".py",
   "mimetype": "text/x-python",
   "name": "python",
   "nbconvert_exporter": "python",
   "pygments_lexer": "ipython3",
   "version": "3.7.0"
  }
 },
 "nbformat": 4,
 "nbformat_minor": 2
}
