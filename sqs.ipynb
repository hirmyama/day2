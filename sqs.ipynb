{
 "cells": [
  {
   "cell_type": "code",
   "execution_count": null,
   "metadata": {},
   "outputs": [],
   "source": [
    "import boto3\n",
    "from pprint import pprint"
   ]
  },
  {
   "cell_type": "code",
   "execution_count": null,
   "metadata": {},
   "outputs": [],
   "source": [
    "sqs = boto3.resource('sqs')"
   ]
  },
  {
   "cell_type": "code",
   "execution_count": null,
   "metadata": {},
   "outputs": [],
   "source": [
    "# キューを作成する。QueueNameで、キューの名前を指定する。\n",
    "queue = sqs.create_queue(QueueName='test')\n",
    "\n",
    "queue"
   ]
  },
  {
   "cell_type": "code",
   "execution_count": null,
   "metadata": {},
   "outputs": [],
   "source": [
    "# キューのURL. キューの名前「test」はURLの末尾にある。\n",
    "queue.url"
   ]
  },
  {
   "cell_type": "code",
   "execution_count": null,
   "metadata": {},
   "outputs": [],
   "source": [
    "# キューのARN\n",
    "queue.attributes['QueueArn']"
   ]
  },
  {
   "cell_type": "code",
   "execution_count": null,
   "metadata": {},
   "outputs": [],
   "source": [
    "# キューの属性をすべて取得してみる。\n",
    "queue.attributes\n",
    "\n",
    "# ApproximateNumberOfMessages: キューから取得可能なメッセージのおおよその数\n",
    "# ApproximateNumberOfMessagesNotVisible: 処理中のメッセージのおおよその数\n",
    "# ApproximateNumberOfMessagesDelayed: キュー内の、遅延が発生したためにすぐに読み取ることができないメッセージのおおよその数\n",
    "# CreatedTimestamp: \n",
    "# LastModifiedTimestamp:\n",
    "# VisibilityTimeout: 可視性タイムアウト(キューから受信したメッセージが他の受信コンポーネントから見えない時間の長さ)\n",
    "# MaximumMessageSize: 最大メッセージサイズ(バイト)\n",
    "# MessageRetentionPeriod: メッセージ保持期間(メッセージが削除されない場合に Amazon SQS で保持される時間)\n",
    "# DelaySeconds: 配信遅延\n",
    "# ReceiveMessageWaitTimeSeconds: メッセージ受信待機時間(ロングポーリング受信呼び出しが空の応答を返すまでに、メッセージが利用可能になるまで待機する最大時間)\n"
   ]
  },
  {
   "cell_type": "code",
   "execution_count": null,
   "metadata": {},
   "outputs": [],
   "source": [
    "# キューにメッセージを送信\n",
    "for i in range(10):\n",
    "    queue.send_message(MessageBody='helloこんにちは! %d 件目です' % (i + 1))"
   ]
  },
  {
   "cell_type": "markdown",
   "metadata": {},
   "source": [
    "# receive_messages(): キューからメッセージを受信。デフォルトでは、1件ずつメッセージを取り出す。取り出し順番がばらばらであるところに着目。"
   ]
  },
  {
   "cell_type": "code",
   "execution_count": null,
   "metadata": {},
   "outputs": [],
   "source": [
    "# キューからメッセージを受信する\n",
    "messages = queue.receive_messages()\n",
    "\n",
    "messages # メッセージにはreceipt_handle が含まれる。これは、そのメッセージを削除するときに使われるID。"
   ]
  },
  {
   "cell_type": "code",
   "execution_count": null,
   "metadata": {},
   "outputs": [],
   "source": [
    "# 受信したメッセージそれぞれについて処理を行う\n",
    "for message in messages:\n",
    "    # メッセージの本文（MessageBody）を取得して表示する\n",
    "    print(message.body)\n",
    "    # 処理が終わったら、そのメッセージを削除する\n",
    "    message.delete()"
   ]
  },
  {
   "cell_type": "markdown",
   "metadata": {},
   "source": [
    "# MaxNumberOfMessages: 1回に受信する最大件数(0〜10)"
   ]
  },
  {
   "cell_type": "code",
   "execution_count": null,
   "metadata": {},
   "outputs": [],
   "source": [
    "# キューにメッセージを送信\n",
    "for i in range(10):\n",
    "    queue.send_message(MessageBody='helloこんにちは! %d 件目です' % (i + 1))"
   ]
  },
  {
   "cell_type": "code",
   "execution_count": null,
   "metadata": {},
   "outputs": [],
   "source": [
    "# キューからメッセージを受信する. \n",
    "# ※このセルは、メッセージがでなくなるまで繰り返しCtrl+Enterで実行してください。\n",
    "\n",
    "messages = queue.receive_messages(MaxNumberOfMessages=3)\n",
    "# 受信したメッセージそれぞれについて処理を行う\n",
    "for message in messages:\n",
    "    # メッセージの本文（MessageBody）を取得して表示する\n",
    "    print(message.body)\n",
    "    # 処理が終わったら、そのメッセージを削除する\n",
    "    message.delete()"
   ]
  },
  {
   "cell_type": "markdown",
   "metadata": {},
   "source": [
    "# WaitTimeSeconds: メッセージが0件のときに待機する時間。0以上に指定すると「ロングポーリング」と呼ばれる。"
   ]
  },
  {
   "cell_type": "code",
   "execution_count": null,
   "metadata": {},
   "outputs": [],
   "source": [
    "# キューにメッセージを送信\n",
    "for i in range(10):\n",
    "    queue.send_message(MessageBody='helloこんにちは! %d 件目です' % (i + 1))"
   ]
  },
  {
   "cell_type": "code",
   "execution_count": null,
   "metadata": {},
   "outputs": [],
   "source": [
    "# キューからメッセージを受信する\n",
    "# ※このセルは、メッセージがでなくなるまで繰り返しCtrl+Enterで実行してください。\n",
    "\n",
    "print('キューからメッセージを受信します。')\n",
    "print('メッセージがない場合は5秒、待機しますが、待機中にメッセージが到着したらそれを受信し、待機をやめます。')\n",
    "print('受信処理を始めます...')\n",
    "messages = queue.receive_messages(WaitTimeSeconds=5, MaxNumberOfMessages=3)\n",
    "print('受信処理が終わりました')\n",
    "\n",
    "# 受信したメッセージそれぞれについて処理を行う\n",
    "for message in messages:\n",
    "    # メッセージの本文（MessageBody）を取得して表示する\n",
    "    print(message.body)\n",
    "    # 処理が終わったら、そのメッセージを削除する\n",
    "    message.delete()"
   ]
  },
  {
   "cell_type": "code",
   "execution_count": null,
   "metadata": {},
   "outputs": [],
   "source": []
  }
 ],
 "metadata": {
  "kernelspec": {
   "display_name": "Python 3",
   "language": "python",
   "name": "python3"
  },
  "language_info": {
   "codemirror_mode": {
    "name": "ipython",
    "version": 3
   },
   "file_extension": ".py",
   "mimetype": "text/x-python",
   "name": "python",
   "nbconvert_exporter": "python",
   "pygments_lexer": "ipython3",
   "version": "3.7.0"
  }
 },
 "nbformat": 4,
 "nbformat_minor": 2
}
