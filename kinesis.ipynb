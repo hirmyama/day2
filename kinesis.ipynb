{
 "cells": [
  {
   "cell_type": "code",
   "execution_count": null,
   "metadata": {},
   "outputs": [],
   "source": [
    "# kinesisを使う場合、resource apiは使用できない。client apiを使用する。\n",
    "\n",
    "import boto3\n",
    "kinesis = boto3.client('kinesis')"
   ]
  },
  {
   "cell_type": "code",
   "execution_count": null,
   "metadata": {},
   "outputs": [],
   "source": [
    "# kinesisストリームの名前\n",
    "\n",
    "stream_name = 'test'"
   ]
  },
  {
   "cell_type": "code",
   "execution_count": null,
   "metadata": {},
   "outputs": [],
   "source": [
    "# ストリームを作成。シャードは2つとする。\n",
    "\n",
    "kinesis.create_stream(StreamName=stream_name, ShardCount=2)"
   ]
  },
  {
   "cell_type": "code",
   "execution_count": null,
   "metadata": {},
   "outputs": [],
   "source": [
    "# ストリームの情報を表示。\n",
    "# ストリームの作成には20秒ほどかかる\n",
    "# Ctrl-Enterで何度かこのセルを実行。\n",
    "# StreamStatus が ACTIVE になったら、先へ進むことができる。\n",
    "\n",
    "kinesis.describe_stream(StreamName=stream_name)"
   ]
  },
  {
   "cell_type": "code",
   "execution_count": null,
   "metadata": {},
   "outputs": [],
   "source": [
    "# ストリームの情報を表示。シャードの情報に絞り込んで表示してみよう。\n",
    "# 2つのシャード  shardId-000000000000 と shardId-000000000001 が確認できる。\n",
    "# また、それぞれのシャードに StartingHashKey, EndingHashKey という設定があるのがわかる。\n",
    "\n",
    "kinesis.describe_stream(StreamName=stream_name)['StreamDescription']['Shards']"
   ]
  },
  {
   "cell_type": "code",
   "execution_count": null,
   "metadata": {},
   "outputs": [],
   "source": [
    "# StartingHashKey / EndingHashKey は、128ビット(16進数で32桁)の数値。それぞれ16進数で表示して確認してみる。\n",
    "print('shardId-000000000000 StartingHashKey: 0x%032x' % 0)\n",
    "print('shardId-000000000000   EndingHashKey: 0x%032x' % 170141183460469231731687303715884105727)\n",
    "\n",
    "print('shardId-000000000001 StartingHashKey: 0x%032x' % 170141183460469231731687303715884105728)\n",
    "print('shardId-000000000001   EndingHashKey: 0x%032x' % 340282366920938463463374607431768211455)"
   ]
  },
  {
   "cell_type": "code",
   "execution_count": null,
   "metadata": {},
   "outputs": [],
   "source": [
    "# シャードに適当なレコードを書き込む。PartitionKeyの指定を「a」から「h」を手動で変更しながら繰り返し実行し、\n",
    "# 各レコードがどのシャードに入るかたしかめてみよう。\n",
    "\n",
    "kinesis.put_record(StreamName=stream_name,Data='hello',PartitionKey='h')"
   ]
  },
  {
   "cell_type": "code",
   "execution_count": null,
   "metadata": {},
   "outputs": [],
   "source": [
    "# 各アルファベットのmd5値を計算し、shardId-000000000001 の StartingHashKey と比較してみよう\n",
    "from hashlib import md5\n",
    "for ch in ['a', 'b', 'c', 'd', 'e', 'f', 'g', 'h']:\n",
    "    digest = md5(ch.encode()).hexdigest()\n",
    "    print(ch, digest, digest < '80000000000000000000000000000000', sep=' ')"
   ]
  },
  {
   "cell_type": "code",
   "execution_count": null,
   "metadata": {},
   "outputs": [],
   "source": [
    "# PartitionKeyを「a」から「h」まで変化させながらレコードを追加し、挙動を確認してみよう\n",
    "for p in ['a', 'b', 'c', 'd', 'e', 'f', 'g', 'h']:\n",
    "    response = kinesis.put_record(StreamName=stream_name,Data='hello',PartitionKey=p)\n",
    "    print('%c: ShardId: %s, \\n   SequenceNumber: %d' % \n",
    "          (p, response['ShardId'], int(response['SequenceNumber'])))"
   ]
  },
  {
   "cell_type": "code",
   "execution_count": null,
   "metadata": {},
   "outputs": [],
   "source": [
    "# ShardIdが shardId-000000000001 になるパーティションキーだけを連続投入し、\n",
    "# シーケンス番号の増加を観察してみよう\n",
    "for p in [ 'b', 'd', 'e', 'f', 'g' ]:\n",
    "    response = kinesis.put_record(StreamName=stream_name,Data='hello',PartitionKey=p)\n",
    "    print('%c: ShardId: %s, \\n   SequenceNumber: %d' % \n",
    "          (p, response['ShardId'], int(response['SequenceNumber'])))"
   ]
  },
  {
   "cell_type": "code",
   "execution_count": null,
   "metadata": {},
   "outputs": [],
   "source": [
    "# シャードからレコードを読み取るには、まずシャードを指定して、「シャードイテレータ」を入手する。\n",
    "# またこのとき、レコードを、シャードのどのあたりから読み込み始めるかを指定する。\n",
    "# 今回は「TRIM_HORIZON」として、シャードに残っている最も古いレコードから読み取りを行う。\n",
    "\n",
    "kinesis.get_shard_iterator(\n",
    "    StreamName=stream_name, \n",
    "    ShardId='shardId-000000000000', \n",
    "    ShardIteratorType='TRIM_HORIZON')"
   ]
  },
  {
   "cell_type": "code",
   "execution_count": null,
   "metadata": {},
   "outputs": [],
   "source": [
    "# シャードイテレータを取得\n",
    "si = kinesis.get_shard_iterator(\n",
    "    StreamName=stream_name, \n",
    "    ShardId='shardId-000000000000', \n",
    "    ShardIteratorType='TRIM_HORIZON')['ShardIterator']\n",
    "\n",
    "# シャードイテレータを使って、シャードのレコードを取り出す. \n",
    "\n",
    "# 各レコードには次のような情報が付与されているのが確認できる。\n",
    "# SequenceNumber = シーケンス番号\n",
    "# ApproximateArrivalTimestamp = 概算到着タイムスタンプ\n",
    "# Data = レコードのデータ\n",
    "# PartitionKey = パーティションキー\n",
    "\n",
    "kinesis.get_records(ShardIterator=si)"
   ]
  },
  {
   "cell_type": "code",
   "execution_count": null,
   "metadata": {},
   "outputs": [],
   "source": []
  }
 ],
 "metadata": {
  "kernelspec": {
   "display_name": "Python 3",
   "language": "python",
   "name": "python3"
  },
  "language_info": {
   "codemirror_mode": {
    "name": "ipython",
    "version": 3
   },
   "file_extension": ".py",
   "mimetype": "text/x-python",
   "name": "python",
   "nbconvert_exporter": "python",
   "pygments_lexer": "ipython3",
   "version": "3.7.0"
  }
 },
 "nbformat": 4,
 "nbformat_minor": 2
}
